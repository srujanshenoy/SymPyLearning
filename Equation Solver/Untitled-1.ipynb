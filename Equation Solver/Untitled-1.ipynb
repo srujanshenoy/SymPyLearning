{
 "cells": [
  {
   "cell_type": "code",
   "execution_count": 2,
   "metadata": {},
   "outputs": [],
   "source": [
    "from sympy import Eq, simplify, symbols, solve"
   ]
  },
  {
   "cell_type": "code",
   "execution_count": 13,
   "metadata": {},
   "outputs": [],
   "source": [
    "x = symbols('x')\n",
    "\n",
    "expressions = [\n",
    "    Eq(x**2 + x + 15, 0),\n",
    "    Eq(5*x**2 + 3*x - 3, 0),\n",
    "    Eq(3*x**4 - 2*x**2, 5),\n",
    "    Eq(x * 2*x * 3*x * 4*x, -1),\n",
    "    Eq(6*x**6 + 5*x**5 + 4*x**4 + 3*x**3 + 2*x**2 + x, 6*x**6 - 5*x**5 - 4*x**4 - 3*x**3 - 2*x**2 - x)\n",
    "]"
   ]
  },
  {
   "cell_type": "markdown",
   "metadata": {},
   "source": [
    "## To print the Eqns\n",
    "\n",
    "To print the equations, we need to show that `lhs = rhs`\n",
    "\n",
    "lhs is `expression.lhs` and\n",
    "rhs is `expression.rhd`. \n",
    "`print(f\"{expression.lhs} = {expression.rhs}\")`\n",
    "\n",
    "## To simplify and show\n",
    "\n",
    "want to show like `= {simplified_eqn}`, but not like `= Eq(... ,...)`\n",
    "So trip the sides using `.removeprefix` and `.removesuffix`:\n",
    "\n",
    "`print(str(simplify(expression)).removeprefix(\"Eq(\").removesuffix(\")\")`"
   ]
  },
  {
   "cell_type": "code",
   "execution_count": 4,
   "metadata": {},
   "outputs": [
    {
     "name": "stdout",
     "output_type": "stream",
     "text": [
      "x**2 + x + 15 = 0\n"
     ]
    },
    {
     "name": "stdout",
     "output_type": "stream",
     "text": [
      "= x**2 + x, -15\n",
      "\n",
      "\n",
      "x = -1/2 - sqrt(59)*I/2 or\n",
      "x = -1/2 + sqrt(59)*I/2 \n",
      "\n",
      "\n",
      "5*x**2 + 3*x - 3 = 0\n",
      "= 5*x**2 + 3*x, 3\n",
      "\n",
      "\n",
      "x = -3/10 + sqrt(69)/10 or\n",
      "x = -sqrt(69)/10 - 3/10 \n",
      "\n",
      "\n",
      "3*x**4 - 2*x**2 = 5\n",
      "= 3*x**4 - 2*x**2, 5\n",
      "\n",
      "\n",
      "x = -sqrt(15)/3 or\n",
      "x = sqrt(15)/3 or\n",
      "x = -I or\n",
      "x = I \n",
      "\n",
      "\n",
      "3*x**4 + 12167*x**2 = 5**(4*x)\n",
      "= 625**x, x**2*(3*x**2 + 12167)\n",
      "\n",
      "\n",
      "\n",
      "\n"
     ]
    }
   ],
   "source": [
    "for expression in expressions:\n",
    "    # print('  ' + str(expression).removeprefix(\"Eq(\").removesuffix(\")\"))\n",
    "\n",
    "    print(f\"{expression.lhs} = {expression.rhs}\")\n",
    "\n",
    "    print(f\"= {str(simplify(expression)).removeprefix(\"Eq(\").removesuffix(\")\")}\")\n",
    "\n",
    "    solutions = solve(expression)\n",
    "\n",
    "    print(\"\\n\")\n",
    "\n",
    "    sol_no = 1\n",
    "\n",
    "    for solution in solutions:\n",
    "        print(f\"x = {solution} {'or' if sol_no < len(solutions) else ''}\")\n",
    "\n",
    "        sol_no += 1\n",
    "\n",
    "    print(\"\\n\")"
   ]
  },
  {
   "cell_type": "code",
   "execution_count": 23,
   "metadata": {},
   "outputs": [],
   "source": [
    "from sympy import Equality\n",
    "\n",
    "\n",
    "def is_equality_list(equality_list):\n",
    "    # Check if all elements in the list are of type Equality\n",
    "    if all(isinstance(item, Equality) for item in equality_list):\n",
    "        return True\n",
    "    else:\n",
    "        raise TypeError(\"All elements must be of type 'Equality' from SymPy.\")\n",
    "\n",
    "\n",
    "def eqprint(inputstring):\n",
    "    inputstring = str(inputstring)\n",
    "\n",
    "    inputstring = inputstring.removeprefix(\"Eq(\")\n",
    "    inputstring = inputstring.removesuffix(\")\")\n",
    "    inputstring.replace('**', '^')\n",
    "\n",
    "    print(inputstring)\n",
    "    return inputstring\n",
    "\n",
    "def printeqn(Equation: Equality):\n",
    "    inputstring = f\"{Equation.lhs} = {Equation.rhs}\"\n",
    "\n",
    "    inputstring = inputstring.removeprefix(\"Eq(\")\n",
    "    inputstring = inputstring.removesuffix(\")\")\n",
    "    inputstring.replace('**', '^')\n",
    "\n",
    "    print(inputstring)\n",
    "    return inputstring\n",
    "\n",
    "\n"
   ]
  },
  {
   "cell_type": "code",
   "execution_count": 25,
   "metadata": {
    "slideshow": {
     "slide_type": "notes"
    }
   },
   "outputs": [
    {
     "name": "stdout",
     "output_type": "stream",
     "text": [
      "\n",
      "x**2 + x + 15 = 0\n",
      "    x = -1/2 - sqrt(59)*I/2\n",
      "    x = -1/2 + sqrt(59)*I/2\n",
      "\n",
      "5*x**2 + 3*x - 3 = 0\n",
      "    x = -3/10 + sqrt(69)/10\n",
      "    x = -sqrt(69)/10 - 3/10\n",
      "\n",
      "3*x**4 - 2*x**2 = 5\n",
      "    x = -sqrt(15)/3\n",
      "    x = sqrt(15)/3\n",
      "    x = -I\n",
      "    x = I\n",
      "\n",
      "24*x**4 = -1\n",
      "    x = -6**(3/4)/12 - 6**(3/4)*I/12\n",
      "    x = -6**(3/4)/12 + 6**(3/4)*I/12\n",
      "    x = 6**(3/4)/12 - 6**(3/4)*I/12\n",
      "    x = 6**(3/4)/12 + 6**(3/4)*I/12\n",
      "\n",
      "6*x**6 + 5*x**5 + 4*x**4 + 3*x**3 + 2*x**2 + x = 0\n",
      "    x = 0\n",
      "    x = CRootOf(6*x**5 + 5*x**4 + 4*x**3 + 3*x**2 + 2*x + 1, 0)\n",
      "    x = CRootOf(6*x**5 + 5*x**4 + 4*x**3 + 3*x**2 + 2*x + 1, 1)\n",
      "    x = CRootOf(6*x**5 + 5*x**4 + 4*x**3 + 3*x**2 + 2*x + 1, 2)\n",
      "    x = CRootOf(6*x**5 + 5*x**4 + 4*x**3 + 3*x**2 + 2*x + 1, 3)\n",
      "    x = CRootOf(6*x**5 + 5*x**4 + 4*x**3 + 3*x**2 + 2*x + 1, 4)\n"
     ]
    }
   ],
   "source": [
    "#alternate method\n",
    "def Solver(expressions):\n",
    "\n",
    "    if is_equality_list(expressions):\n",
    "\n",
    "        solutions = [solve(eq, x) for eq in expressions]\n",
    "\n",
    "        for index in range(0, len(expressions)):\n",
    "            print()\n",
    "            printeqn(expressions[index])\n",
    "\n",
    "            for solution in solutions[index]:\n",
    "                print(f\"    x = {solution}\")\n",
    "\n",
    "Solver(expressions)"
   ]
  }
 ],
 "metadata": {
  "kernelspec": {
   "display_name": "Python 3 (ipykernel)",
   "language": "python",
   "name": "python3"
  },
  "language_info": {
   "codemirror_mode": {
    "name": "ipython",
    "version": 3
   },
   "file_extension": ".py",
   "mimetype": "text/x-python",
   "name": "python",
   "nbconvert_exporter": "python",
   "pygments_lexer": "ipython3",
   "version": "3.12.1"
  }
 },
 "nbformat": 4,
 "nbformat_minor": 2
}
